{
    "cells": [
        {
            "cell_type": "markdown",
            "metadata": {},
            "source": "# Introduction / Buisness problem \n\nToronto is the largest city in Canada and an economically viable place in terms of business, finance, entertainment, technology and so on. With a population of about 3 million people, the city is ranked as one of the most liveable cities in the world according to the report by the Economist Intelligence Unit (City of Toronto, 2019). \nWithin the city of Toronto, Downtown Toronto can boast of the city\u2019s main business areas and the most culturally diverse city in Toronto, Ontario.\n\nMy client want to shift the current place to unknown city in Toronto and require help to find the best neighbourhood to start a restaurant. \nMy client wants a neighbourhood that is like his current borough because he feels that would help him settle easily.  \n\nI will analyse and recommend a place in any of the overall neighbourhoods for my client planning to open a restaurant. The location of interest must be a densely populated area with few or no restaurant. I will utilize the data scientist skills to explore Toronto neighbourhood datasets and extract the needed information. Advantages of each area will then be clearly expressed so that the best possible final location can be chosen by stakeholders "
        },
        {
            "cell_type": "markdown",
            "metadata": {},
            "source": "# DATA \n\nDfferent datasets were used, someone of which was scraped from Wikipedia and Canada open data portal. You can view the data through the link shown below ;\n\n       1) Canada data: https://en.wikipedia.org/wiki/List_of_postal_codes_of_Canada:_M \n       2) Population Information: https://www12.statcan.gc.ca/censusrecensement/2016/dppd/hlt-fst/pd-pl/Table.cfm?Lang=Eng&T=1201&SR=1&S=22&O=A&RPP=9999&PR=0 \n       3) Geocoordinates of Canada by Postal codes: http://cocl.us/Geospatial_data \n       4) Foursquare location data\nThe \u201cList of Canada cities by population\u201d was cleaned so that the city name and location information could be utilized. Some of the unnecessary information such as rank and census were dropped and latitude and longitude had to be made clear since the original table in the wikipedia was in a format that could not be easily interpreted.\n"
        },
        {
            "cell_type": "code",
            "execution_count": null,
            "metadata": {},
            "outputs": [],
            "source": ""
        }
    ],
    "metadata": {
        "kernelspec": {
            "display_name": "Python 3.6",
            "language": "python",
            "name": "python3"
        },
        "language_info": {
            "codemirror_mode": {
                "name": "ipython",
                "version": 3
            },
            "file_extension": ".py",
            "mimetype": "text/x-python",
            "name": "python",
            "nbconvert_exporter": "python",
            "pygments_lexer": "ipython3",
            "version": "3.6.8"
        }
    },
    "nbformat": 4,
    "nbformat_minor": 1
}