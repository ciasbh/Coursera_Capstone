{
    "cells": [
        {
            "cell_type": "markdown",
            "metadata": {},
            "source": "# Introduction / Buisness problem \n\nToronto, the capital of the province of Ontario, is a major Canadian city along Lake Ontario\u2019s northwestern shore. It's a dynamic metropolis with a core of soaring skyscrapers, all dwarfed by the iconic, free-standing CN Towe\nThe objective of this project is to recommend which neighborhood of TORONTO is a good choice for a new restaurant business to open"
        },
        {
            "cell_type": "markdown",
            "metadata": {},
            "source": "# DATA \n\nList of Canada cities by population\nFoursquare location data\nNeighborhoods\nThe \u201cList of Canada cities by population\u201d was cleaned so that the city name and location information could be utilized. Some of the unnecessary information such as rank and census were dropped and latitude and longitude had to be made clear since the original table in the wikipedia was in a format that could not be easily interpreted."
        },
        {
            "cell_type": "code",
            "execution_count": null,
            "metadata": {},
            "outputs": [],
            "source": ""
        }
    ],
    "metadata": {
        "kernelspec": {
            "display_name": "Python 3.6",
            "language": "python",
            "name": "python3"
        },
        "language_info": {
            "codemirror_mode": {
                "name": "ipython",
                "version": 3
            },
            "file_extension": ".py",
            "mimetype": "text/x-python",
            "name": "python",
            "nbconvert_exporter": "python",
            "pygments_lexer": "ipython3",
            "version": "3.6.8"
        }
    },
    "nbformat": 4,
    "nbformat_minor": 1
}